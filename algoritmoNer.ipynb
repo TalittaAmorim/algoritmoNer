{
 "cells": [
  {
   "cell_type": "code",
   "execution_count": 2,
   "id": "7815cf79",
   "metadata": {},
   "outputs": [],
   "source": [
    "import spacy"
   ]
  },
  {
   "cell_type": "code",
   "execution_count": 3,
   "id": "a17aa9e1",
   "metadata": {},
   "outputs": [],
   "source": [
    "import pandas as pd"
   ]
  },
  {
   "cell_type": "code",
   "execution_count": 4,
   "id": "3c6d62c3",
   "metadata": {},
   "outputs": [],
   "source": [
    "modelo_spacy = spacy.load(\"pt_core_news_sm\")\n",
    "\n",
    "lista_cargos = [\"Gerente de Projetos\", \"Analista de Dados\", \"Diretor\", \"gestora\", \"engenheiro de machine learning\"]\n",
    "lista_termos_tec = [\"banco de dados\", \"Inteligência Artificial\", \"Machine Learning\", \"BigData\", \"llms\", \"sistema\"]\n",
    "lista_areas = [\"saúde\", \"financeiro\", \"TI\", \"recursos humanos\"] \n",
    "\n",
    "\n",
    "textos_entrada = [\n",
    "    {\n",
    "        \"id\": 1,\n",
    "        \"mensagem\": \"Na reunião de 08 de julho, a Dra. Ana Costa, Gerente de Projetos, discutiu a implementação de Inteligência Artificial no setor de saúde da empresa TechSolutions Ltda.\"\n",
    "    },\n",
    "    {\n",
    "        \"id\": 2,\n",
    "        \"mensagem\": \"O Sr. Pedro Rocha, Analista de Dados, apresentou o relatório de desempenho do sistema BigData, com previsão de atualização para 20 de agosto, na filial de São Paulo.\"\n",
    "    }\n",
    "]\n",
    "\n"
   ]
  },
  {
   "cell_type": "code",
   "execution_count": 5,
   "id": "36b358a8",
   "metadata": {},
   "outputs": [],
   "source": [
    "# Rotular entidades costumizadas com o phrase matcher\n",
    "from spacy.matcher import PhraseMatcher\n",
    "\n",
    "matcher = PhraseMatcher(modelo_spacy.vocab)\n",
    "\n",
    "matcher.add(\"CARGO\", [modelo_spacy.make_doc(text) for text in lista_cargos])\n",
    "matcher.add(\"TERMO_TEC\", [modelo_spacy.make_doc(text) for text in lista_termos_tec])\n",
    "matcher.add(\"AREA\", [modelo_spacy.make_doc(text) for text in lista_areas])\n"
   ]
  },
  {
   "cell_type": "code",
   "execution_count": 6,
   "id": "054b4a1b",
   "metadata": {},
   "outputs": [
    {
     "name": "stdout",
     "output_type": "stream",
     "text": [
      "Entidades padrão do SpaCy coletadas.\n"
     ]
    }
   ],
   "source": [
    "lista_entidades_coletadas = [] \n",
    "\n",
    "for item_texto in textos_entrada:\n",
    "    id_atual = item_texto[\"id\"]\n",
    "    mensagem_atual = item_texto[\"mensagem\"]\n",
    "    \n",
    "    doc = modelo_spacy(mensagem_atual) \n",
    "    \n",
    "    \n",
    "    for ent in doc.ents:\n",
    "        lista_entidades_coletadas.append({\n",
    "            \"id\": id_atual,\n",
    "            \"mensagem\": mensagem_atual,\n",
    "            \"tipoDaEntidade\": ent.label_, \n",
    "            \"entidade\": ent.text,\n",
    "            \"posicao_inicio\": ent.start_char,\n",
    "            \"posicao_fim\": ent.end_char,\n",
    "            \"origem\": \"SpaCy_Padrao\"\n",
    "        })\n",
    "\n",
    "print(\"Entidades padrão do SpaCy coletadas.\")"
   ]
  },
  {
   "cell_type": "code",
   "execution_count": null,
   "id": "ec6c46aa",
   "metadata": {},
   "outputs": [
    {
     "name": "stdout",
     "output_type": "stream",
     "text": [
      "CARGO\n",
      "TERMO_TEC\n",
      "TERMO_TEC\n"
     ]
    }
   ],
   "source": [
    "# Coletar entidades customizadas via regras do PhraseMatcher\n",
    "\n",
    "matches = matcher(doc)\n",
    "\n",
    "\n",
    "for match_id, start_token, end_token in matches:\n",
    "        span = doc[start_token:end_token] \n",
    "        label = modelo_spacy.vocab.strings[match_id] # Converte o ID numérico para o LABEL string (ex: \"CARGO\")\n",
    "        print(label)\n",
    "\n",
    "        lista_entidades_coletadas.append({\n",
    "            \"id\": id_atual,\n",
    "            \"mensagem\": mensagem_atual,\n",
    "            \"tipoDaEntidade\": label, \n",
    "            \"entidade\": span.text,\n",
    "            \"posicao_inicio\": span.start_char,\n",
    "            \"posicao_fim\": span.end_char,\n",
    "            \"origem\": \"Regra_Customizada\" \n",
    "        })\n",
    "    \n"
   ]
  },
  {
   "cell_type": "code",
   "execution_count": null,
   "id": "e8d12ace",
   "metadata": {},
   "outputs": [
    {
     "name": "stdout",
     "output_type": "stream",
     "text": [
      "\n",
      "DataFrame final criado e organizado.\n"
     ]
    }
   ],
   "source": [
    "\n",
    "df_entidades = pd.DataFrame(lista_entidades_coletadas)\n",
    "\n",
    "\n",
    "df_organizado = df_entidades.sort_values(by=['id', 'tipoDaEntidade', 'posicao_inicio']).reset_index(drop=True)\n",
    "\n",
    "print(\"\\nDataFrame final criado e organizado.\")\n"
   ]
  },
  {
   "cell_type": "code",
   "execution_count": null,
   "id": "09724a54",
   "metadata": {},
   "outputs": [
    {
     "name": "stdout",
     "output_type": "stream",
     "text": [
      "\n",
      "--- Visualização do DataFrame de Entidades (Padrão SpaCy e Customizadas Simuladas) ---\n",
      "    id                 entidade tipoDaEntidade             origem                                                                                                                                                                mensagem\n",
      "0    1      Gerente de Projetos           MISC       SpaCy_Padrao  Na reunião de 08 de julho, a Dra. Ana Costa, Gerente de Projetos, discutiu a implementação de Inteligência Artificial no setor de saúde da empresa TechSolutions Ltda.\n",
      "1    1  Inteligência Artificial           MISC       SpaCy_Padrao  Na reunião de 08 de julho, a Dra. Ana Costa, Gerente de Projetos, discutiu a implementação de Inteligência Artificial no setor de saúde da empresa TechSolutions Ltda.\n",
      "2    1                      Dra            ORG       SpaCy_Padrao  Na reunião de 08 de julho, a Dra. Ana Costa, Gerente de Projetos, discutiu a implementação de Inteligência Artificial no setor de saúde da empresa TechSolutions Ltda.\n",
      "3    1       TechSolutions Ltda            ORG       SpaCy_Padrao  Na reunião de 08 de julho, a Dra. Ana Costa, Gerente de Projetos, discutiu a implementação de Inteligência Artificial no setor de saúde da empresa TechSolutions Ltda.\n",
      "4    1                Ana Costa            PER       SpaCy_Padrao  Na reunião de 08 de julho, a Dra. Ana Costa, Gerente de Projetos, discutiu a implementação de Inteligência Artificial no setor de saúde da empresa TechSolutions Ltda.\n",
      "5    2        Analista de Dados          CARGO  Regra_Customizada   O Sr. Pedro Rocha, Analista de Dados, apresentou o relatório de desempenho do sistema BigData, com previsão de atualização para 20 de agosto, na filial de São Paulo.\n",
      "6    2             de São Paulo            LOC       SpaCy_Padrao   O Sr. Pedro Rocha, Analista de Dados, apresentou o relatório de desempenho do sistema BigData, com previsão de atualização para 20 de agosto, na filial de São Paulo.\n",
      "7    2        Analista de Dados           MISC       SpaCy_Padrao   O Sr. Pedro Rocha, Analista de Dados, apresentou o relatório de desempenho do sistema BigData, com previsão de atualização para 20 de agosto, na filial de São Paulo.\n",
      "8    2                  BigData           MISC       SpaCy_Padrao   O Sr. Pedro Rocha, Analista de Dados, apresentou o relatório de desempenho do sistema BigData, com previsão de atualização para 20 de agosto, na filial de São Paulo.\n",
      "9    2          Sr. Pedro Rocha            PER       SpaCy_Padrao   O Sr. Pedro Rocha, Analista de Dados, apresentou o relatório de desempenho do sistema BigData, com previsão de atualização para 20 de agosto, na filial de São Paulo.\n",
      "10   2                  sistema      TERMO_TEC  Regra_Customizada   O Sr. Pedro Rocha, Analista de Dados, apresentou o relatório de desempenho do sistema BigData, com previsão de atualização para 20 de agosto, na filial de São Paulo.\n",
      "11   2                  BigData      TERMO_TEC  Regra_Customizada   O Sr. Pedro Rocha, Analista de Dados, apresentou o relatório de desempenho do sistema BigData, com previsão de atualização para 20 de agosto, na filial de São Paulo.\n"
     ]
    }
   ],
   "source": [
    "# --- Ajustar opções de exibição para o Jupyter ---\n",
    "pd.set_option('display.max_colwidth', None) # Não trunca o texto nas colunas\n",
    "pd.set_option('display.max_rows', None)    # Mostra todas as linhas\n",
    "pd.set_option('display.width', 1000)      # Define uma largura de tela maior\n",
    "\n",
    "print(\"\\n--- Visualização do DataFrame de Entidades (Padrão SpaCy e Customizadas Simuladas) ---\")\n",
    "\n",
    "print(df_organizado[['id', 'entidade', 'tipoDaEntidade', 'origem', 'mensagem']])\n"
   ]
  }
 ],
 "metadata": {
  "kernelspec": {
   "display_name": "spacy_env",
   "language": "python",
   "name": "python3"
  },
  "language_info": {
   "codemirror_mode": {
    "name": "ipython",
    "version": 3
   },
   "file_extension": ".py",
   "mimetype": "text/x-python",
   "name": "python",
   "nbconvert_exporter": "python",
   "pygments_lexer": "ipython3",
   "version": "3.10.18"
  }
 },
 "nbformat": 4,
 "nbformat_minor": 5
}
