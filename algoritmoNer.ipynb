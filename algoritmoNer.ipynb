{
 "cells": [
  {
   "cell_type": "code",
   "execution_count": 7,
   "id": "7815cf79",
   "metadata": {},
   "outputs": [],
   "source": [
    "import spacy"
   ]
  },
  {
   "cell_type": "code",
   "execution_count": 10,
   "id": "a17aa9e1",
   "metadata": {},
   "outputs": [],
   "source": [
    "import pandas as pd"
   ]
  },
  {
   "cell_type": "code",
   "execution_count": 11,
   "id": "3c6d62c3",
   "metadata": {},
   "outputs": [],
   "source": [
    "modelo_spacy = spacy.load(\"pt_core_news_sm\")\n",
    "\n",
    "textos_entrada = [\n",
    "    {\n",
    "        \"id\": 1,\n",
    "        \"mensagem\": \"Na reunião de 08 de julho, a Dra. Ana Costa, Gerente de Projetos, discutiu a implementação de Inteligência Artificial no setor de saúde da empresa TechSolutions Ltda.\"\n",
    "    },\n",
    "    {\n",
    "        \"id\": 2,\n",
    "        \"mensagem\": \"O Sr. Pedro Rocha, Analista de Dados, apresentou o relatório de desempenho do sistema BigData, com previsão de atualização para 20 de agosto, na filial de São Paulo.\"\n",
    "    }\n",
    "]\n",
    "\n"
   ]
  },
  {
   "cell_type": "code",
   "execution_count": null,
   "id": "054b4a1b",
   "metadata": {},
   "outputs": [
    {
     "name": "stdout",
     "output_type": "stream",
     "text": [
      "Entidades padrão do SpaCy coletadas.\n"
     ]
    }
   ],
   "source": [
    "lista_entidades_coletadas = [] \n",
    "\n",
    "for item_texto in textos_entrada:\n",
    "    id_atual = item_texto[\"id\"]\n",
    "    mensagem_atual = item_texto[\"mensagem\"]\n",
    "    \n",
    "    doc = modelo_spacy(mensagem_atual) \n",
    "    \n",
    "    \n",
    "    for ent in doc.ents:\n",
    "        lista_entidades_coletadas.append({\n",
    "            \"id\": id_atual,\n",
    "            \"mensagem\": mensagem_atual,\n",
    "            \"tipoDaEntidade\": ent.label_, \n",
    "            \"entidade\": ent.text,\n",
    "            \"posicao_inicio\": ent.start_char,\n",
    "            \"posicao_fim\": ent.end_char,\n",
    "            \"origem\": \"SpaCy_Padrao\"\n",
    "        })\n",
    "\n",
    "print(\"Entidades padrão do SpaCy coletadas.\")"
   ]
  },
  {
   "cell_type": "code",
   "execution_count": null,
   "id": "ec6c46aa",
   "metadata": {},
   "outputs": [
    {
     "name": "stdout",
     "output_type": "stream",
     "text": [
      "Entidades customizadas simuladas e adicionadas à lista geral.\n"
     ]
    }
   ],
   "source": [
    "entidades_simuladas_custom = [\n",
    "    {\n",
    "        \"id\": 1,\n",
    "        \"mensagem\": textos_entrada[0][\"mensagem\"],\n",
    "        \"tipoDaEntidade\": \"CARGO\",\n",
    "        \"entidade\": \"Gerente de Projetos\",\n",
    "        \"posicao_inicio\": 41,\n",
    "        \"posicao_fim\": 60,\n",
    "        \"origem\": \"Simulado_Customizado\"\n",
    "    },\n",
    "    {\n",
    "        \"id\": 1,\n",
    "        \"mensagem\": textos_entrada[0][\"mensagem\"],\n",
    "        \"tipoDaEntidade\": \"TERMO_TEC\",\n",
    "        \"entidade\": \"Inteligência Artificial\",\n",
    "        \"posicao_inicio\": 87,\n",
    "        \"posicao_fim\": 110,\n",
    "        \"origem\": \"Simulado_Customizado\"\n",
    "    },\n",
    "    {\n",
    "        \"id\": 1,\n",
    "        \"mensagem\": textos_entrada[0][\"mensagem\"],\n",
    "        \"tipoDaEntidade\": \"AREA\",\n",
    "        \"entidade\": \"saúde\",\n",
    "        \"posicao_inicio\": 126,\n",
    "        \"posicao_fim\": 131,\n",
    "        \"origem\": \"Simulado_Customizado\"\n",
    "    },\n",
    "    {\n",
    "        \"id\": 2,\n",
    "        \"mensagem\": textos_entrada[1][\"mensagem\"],\n",
    "        \"tipoDaEntidade\": \"CARGO\",\n",
    "        \"entidade\": \"Analista de Dados\",\n",
    "        \"posicao_inicio\": 20,\n",
    "        \"posicao_fim\": 37,\n",
    "        \"origem\": \"Simulado_Customizado\"\n",
    "    },\n",
    "    {\n",
    "        \"id\": 2,\n",
    "        \"mensagem\": textos_entrada[1][\"mensagem\"],\n",
    "        \"tipoDaEntidade\": \"TERMO_TEC\",\n",
    "        \"entidade\": \"BigData\",\n",
    "        \"posicao_inicio\": 72,\n",
    "        \"posicao_fim\": 79,\n",
    "        \"origem\": \"Simulado_Customizado\"\n",
    "    },\n",
    "    {\n",
    "        \"id\": 2,\n",
    "        \"mensagem\": textos_entrada[1][\"mensagem\"],\n",
    "        \"tipoDaEntidade\": \"ORGANIZACAO\", # Pode ser um tipo que SpaCy pegaria, mas aqui é simulado\n",
    "        \"entidade\": \"Senai Cimatec\",\n",
    "        \"posicao_inicio\": 105,\n",
    "        \"posicao_fim\": 118,\n",
    "        \"origem\": \"Simulado_Customizado\"\n",
    "    }\n",
    "]\n",
    "lista_entidades_coletadas.extend(entidades_simuladas_custom)\n",
    "\n",
    "print(\"Entidades customizadas simuladas e adicionadas à lista geral.\")"
   ]
  },
  {
   "cell_type": "code",
   "execution_count": null,
   "id": "e8d12ace",
   "metadata": {},
   "outputs": [
    {
     "name": "stdout",
     "output_type": "stream",
     "text": [
      "\n",
      "DataFrame final criado e organizado.\n"
     ]
    }
   ],
   "source": [
    "# Cria o DataFrame a partir da lista de dicionários\n",
    "df_entidades = pd.DataFrame(lista_entidades_coletadas)\n",
    "\n",
    "\n",
    "df_organizado = df_entidades.sort_values(by=['id', 'tipoDaEntidade', 'posicao_inicio']).reset_index(drop=True)\n",
    "\n",
    "print(\"\\nDataFrame final criado e organizado.\")\n"
   ]
  },
  {
   "cell_type": "code",
   "execution_count": null,
   "id": "09724a54",
   "metadata": {},
   "outputs": [
    {
     "name": "stdout",
     "output_type": "stream",
     "text": [
      "\n",
      "--- Visualização do DataFrame de Entidades (Padrão SpaCy e Customizadas Simuladas) ---\n",
      "    id                 entidade tipoDaEntidade                origem                                                                                                                                                                mensagem\n",
      "0    1                    saúde           AREA  Simulado_Customizado  Na reunião de 08 de julho, a Dra. Ana Costa, Gerente de Projetos, discutiu a implementação de Inteligência Artificial no setor de saúde da empresa TechSolutions Ltda.\n",
      "1    1      Gerente de Projetos          CARGO  Simulado_Customizado  Na reunião de 08 de julho, a Dra. Ana Costa, Gerente de Projetos, discutiu a implementação de Inteligência Artificial no setor de saúde da empresa TechSolutions Ltda.\n",
      "2    1      Gerente de Projetos           MISC          SpaCy_Padrao  Na reunião de 08 de julho, a Dra. Ana Costa, Gerente de Projetos, discutiu a implementação de Inteligência Artificial no setor de saúde da empresa TechSolutions Ltda.\n",
      "3    1  Inteligência Artificial           MISC          SpaCy_Padrao  Na reunião de 08 de julho, a Dra. Ana Costa, Gerente de Projetos, discutiu a implementação de Inteligência Artificial no setor de saúde da empresa TechSolutions Ltda.\n",
      "4    1                      Dra            ORG          SpaCy_Padrao  Na reunião de 08 de julho, a Dra. Ana Costa, Gerente de Projetos, discutiu a implementação de Inteligência Artificial no setor de saúde da empresa TechSolutions Ltda.\n",
      "5    1       TechSolutions Ltda            ORG          SpaCy_Padrao  Na reunião de 08 de julho, a Dra. Ana Costa, Gerente de Projetos, discutiu a implementação de Inteligência Artificial no setor de saúde da empresa TechSolutions Ltda.\n",
      "6    1                Ana Costa            PER          SpaCy_Padrao  Na reunião de 08 de julho, a Dra. Ana Costa, Gerente de Projetos, discutiu a implementação de Inteligência Artificial no setor de saúde da empresa TechSolutions Ltda.\n",
      "7    1  Inteligência Artificial      TERMO_TEC  Simulado_Customizado  Na reunião de 08 de julho, a Dra. Ana Costa, Gerente de Projetos, discutiu a implementação de Inteligência Artificial no setor de saúde da empresa TechSolutions Ltda.\n",
      "8    2        Analista de Dados          CARGO  Simulado_Customizado   O Sr. Pedro Rocha, Analista de Dados, apresentou o relatório de desempenho do sistema BigData, com previsão de atualização para 20 de agosto, na filial de São Paulo.\n",
      "9    2             de São Paulo            LOC          SpaCy_Padrao   O Sr. Pedro Rocha, Analista de Dados, apresentou o relatório de desempenho do sistema BigData, com previsão de atualização para 20 de agosto, na filial de São Paulo.\n",
      "10   2        Analista de Dados           MISC          SpaCy_Padrao   O Sr. Pedro Rocha, Analista de Dados, apresentou o relatório de desempenho do sistema BigData, com previsão de atualização para 20 de agosto, na filial de São Paulo.\n",
      "11   2                  BigData           MISC          SpaCy_Padrao   O Sr. Pedro Rocha, Analista de Dados, apresentou o relatório de desempenho do sistema BigData, com previsão de atualização para 20 de agosto, na filial de São Paulo.\n",
      "12   2            Senai Cimatec    ORGANIZACAO  Simulado_Customizado   O Sr. Pedro Rocha, Analista de Dados, apresentou o relatório de desempenho do sistema BigData, com previsão de atualização para 20 de agosto, na filial de São Paulo.\n",
      "13   2          Sr. Pedro Rocha            PER          SpaCy_Padrao   O Sr. Pedro Rocha, Analista de Dados, apresentou o relatório de desempenho do sistema BigData, com previsão de atualização para 20 de agosto, na filial de São Paulo.\n",
      "14   2                  BigData      TERMO_TEC  Simulado_Customizado   O Sr. Pedro Rocha, Analista de Dados, apresentou o relatório de desempenho do sistema BigData, com previsão de atualização para 20 de agosto, na filial de São Paulo.\n"
     ]
    }
   ],
   "source": [
    "# --- Ajustar opções de exibição para o Jupyter ---\n",
    "pd.set_option('display.max_colwidth', None) # Não trunca o texto nas colunas\n",
    "pd.set_option('display.max_rows', None)    # Mostra todas as linhas\n",
    "pd.set_option('display.width', 1000)      # Define uma largura de tela maior\n",
    "\n",
    "print(\"\\n--- Visualização do DataFrame de Entidades (Padrão SpaCy e Customizadas Simuladas) ---\")\n",
    "\n",
    "print(df_organizado[['id', 'entidade', 'tipoDaEntidade', 'origem', 'mensagem']])\n"
   ]
  }
 ],
 "metadata": {
  "kernelspec": {
   "display_name": "nerA",
   "language": "python",
   "name": "python3"
  },
  "language_info": {
   "codemirror_mode": {
    "name": "ipython",
    "version": 3
   },
   "file_extension": ".py",
   "mimetype": "text/x-python",
   "name": "python",
   "nbconvert_exporter": "python",
   "pygments_lexer": "ipython3",
   "version": "3.10.6"
  }
 },
 "nbformat": 4,
 "nbformat_minor": 5
}
